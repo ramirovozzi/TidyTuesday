{
 "cells": [
  {
   "cell_type": "code",
   "execution_count": 1,
   "id": "7eb17171",
   "metadata": {},
   "outputs": [],
   "source": [
    "import pandas as pd\n",
    "\n",
    "url = 'https://raw.githubusercontent.com/rfordatascience/tidytuesday/master/data/2023/2023-10-24/patient_risk_profiles.csv'\n",
    "\n",
    "df = pd.read_csv(url, index_col = 0, sep = ',')"
   ]
  },
  {
   "cell_type": "code",
   "execution_count": 2,
   "id": "97d69767",
   "metadata": {},
   "outputs": [
    {
     "data": {
      "text/plain": [
       "Index(['age group:  10 -  14', 'age group:  15 -  19', 'age group:  20 -  24',\n",
       "       'age group:  65 -  69', 'age group:  40 -  44', 'age group:  45 -  49',\n",
       "       'age group:  55 -  59', 'age group:  85 -  89', 'age group:  75 -  79',\n",
       "       'age group:   5 -   9', 'age group:  25 -  29', 'age group:   0 -   4',\n",
       "       'age group:  70 -  74', 'age group:  50 -  54', 'age group:  60 -  64',\n",
       "       'age group:  35 -  39', 'age group:  30 -  34', 'age group:  80 -  84',\n",
       "       'age group:  90 -  94', 'Sex = FEMALE', 'Sex = MALE',\n",
       "       'Acetaminophen exposures in prior year',\n",
       "       'Occurrence of Alcoholism in prior year', 'Anemia in prior year',\n",
       "       'Angina events in prior year', 'ANTIEPILEPTICS in prior year',\n",
       "       'Occurrence of Anxiety in prior year', 'Osteoarthritis in prior year',\n",
       "       'Aspirin exposures in prior year', 'Occurrence of Asthma in prior year',\n",
       "       'Atrial Fibrillation, incident in prior year',\n",
       "       'HORMONAL CONTRACEPTIVES in prior year',\n",
       "       'Any cancer (excl. prostate cancer and benign cancer) in prior year',\n",
       "       'Acute Kidney Injury (AKI) in prior year',\n",
       "       'Chronic kidney disease or end stage renal disease in prior year',\n",
       "       'Heart failure in prior year',\n",
       "       'Chronic obstructive pulmonary disease (COPD) in prior year',\n",
       "       'Coronary artery disease (CAD) in prior year',\n",
       "       'Major depressive disorder, with NO occurrence of certain psychiatric disorder in prior year',\n",
       "       'Type 1 diabetes and no prior specific non-T1DM diabetes in prior year',\n",
       "       'Type 2 Diabetes Mellitus (DM), with no type 1 or secondary DM in prior year',\n",
       "       'Deep Vein Thrombosis (DVT) in prior year', 'Dyspnea in prior year',\n",
       "       'Edema in prior year', 'Gastroesophageal reflux disease in prior year',\n",
       "       'Acute gastrointestinal (GI) bleeding in prior year',\n",
       "       'Heart valve disorder in prior year', 'Chronic hepatitis in prior year',\n",
       "       'Hyperlipidemia in prior year', 'Hypertension in prior year',\n",
       "       'Hypothyroidism in prior year',\n",
       "       'Inflammatory Bowel Disease in prior year',\n",
       "       'Low back pain in prior year', 'Occurrence of neuropathy in prior year',\n",
       "       'Obesity in prior year', 'Opioids in prior year',\n",
       "       'Osteoporosis in prior year',\n",
       "       'Peripheral vascular disease in prior year', 'Pneumonia in prior year',\n",
       "       'Psychotic disorder in prior year',\n",
       "       'Acute Respiratory failure in prior year',\n",
       "       'Rheumatoid Arthritis in prior year', 'Seizure in prior year',\n",
       "       'Sepsis in prior year', 'Skin ulcer in prior year',\n",
       "       'Sleep apnea in prior year', 'Smoking in prior year',\n",
       "       'STEROIDS in prior year',\n",
       "       'Hemorrhagic stroke in an inpatient setting in prior year',\n",
       "       'Non-hemorrhagic Stroke in an inpatient setting in prior year',\n",
       "       'Urinary tract infectious disease in prior year',\n",
       "       'Antibiotics Carbapenems in prior year',\n",
       "       'Antibiotics Aminoglycosides in prior year',\n",
       "       'Antibiotics Cephalosporins in prior year',\n",
       "       'Antibiotics Fluoroquinolones in prior year',\n",
       "       'Antibiotics Glycopeptides and lipoglycopeptides in prior year',\n",
       "       'Antibiotics Macrolides in prior year',\n",
       "       'Antibiotics Monobactams in prior year',\n",
       "       'Antibiotics Oxazolidinones in prior year',\n",
       "       'Antibiotics Penicillins in prior year',\n",
       "       'Antibiotics Polypeptides in prior year',\n",
       "       'Antibiotics Rifamycins in prior year',\n",
       "       'Antibiotics Sulfonamides in prior year',\n",
       "       'Antibiotics Streptogramins in prior year',\n",
       "       'Antibiotics Tetracyclines in prior year',\n",
       "       'predicted risk of Pulmonary Embolism',\n",
       "       'predicted risk of Sudden Hearing Loss, No congenital anomaly or middle or inner ear conditions',\n",
       "       'predicted risk of Restless Leg Syndrome',\n",
       "       'predicted risk of Sudden Vision Loss, with no eye pathology causes',\n",
       "       'predicted risk of Muscle weakness or injury',\n",
       "       'predicted risk of Ankylosing Spondylitis',\n",
       "       'predicted risk of Autoimmune hepatitis',\n",
       "       'predicted risk of Multiple Sclerosis',\n",
       "       'predicted risk of Acute pancreatitis, with No chronic or hereditary or common causes of pancreatitis',\n",
       "       'predicted risk of Ulcerative colitis', 'predicted risk of Migraine',\n",
       "       'predicted risk of Dementia',\n",
       "       'predicted risk of  Treatment resistant depression (TRD)',\n",
       "       'predicted risk of Parkinson's disease, inpatient or with 2nd diagnosis'],\n",
       "      dtype='object')"
      ]
     },
     "execution_count": 2,
     "metadata": {},
     "output_type": "execute_result"
    }
   ],
   "source": [
    "df.columns"
   ]
  }
 ],
 "metadata": {
  "kernelspec": {
   "display_name": "Python 3 (ipykernel)",
   "language": "python",
   "name": "python3"
  },
  "language_info": {
   "codemirror_mode": {
    "name": "ipython",
    "version": 3
   },
   "file_extension": ".py",
   "mimetype": "text/x-python",
   "name": "python",
   "nbconvert_exporter": "python",
   "pygments_lexer": "ipython3",
   "version": "3.10.9"
  }
 },
 "nbformat": 4,
 "nbformat_minor": 5
}
